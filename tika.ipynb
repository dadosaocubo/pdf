{
  "nbformat": 4,
  "nbformat_minor": 0,
  "metadata": {
    "colab": {
      "name": "tika.ipynb",
      "provenance": [],
      "collapsed_sections": []
    },
    "kernelspec": {
      "name": "python3",
      "display_name": "Python 3"
    },
    "language_info": {
      "name": "python"
    }
  },
  "cells": [
    {
      "cell_type": "markdown",
      "source": [
        "<img src=\"https://raw.githubusercontent.com/dadosaocubo/classificacao/master/DadosAoCubo.png\" alt=\"drawing\" width=\"500\"/>"
      ],
      "metadata": {
        "id": "R3wG79SLMZmW"
      }
    },
    {
      "cell_type": "markdown",
      "source": [
        "[__Dados ao Cubo__](https://dadosaocubo.com/) by [__Tiago Dias__](https://www.linkedin.com/in/diasctiago/) "
      ],
      "metadata": {
        "id": "Dqifeng7MZdv"
      }
    },
    {
      "cell_type": "code",
      "source": [
        "!git clone https://github.com/dadosaocubo/pdf"
      ],
      "metadata": {
        "colab": {
          "base_uri": "https://localhost:8080/"
        },
        "id": "Erj2tauLNa85",
        "outputId": "e0a1cae4-52e2-4212-a30d-5afe205e3086"
      },
      "execution_count": 1,
      "outputs": [
        {
          "output_type": "stream",
          "name": "stdout",
          "text": [
            "Cloning into 'pdf'...\n",
            "remote: Enumerating objects: 9, done.\u001b[K\n",
            "remote: Counting objects: 100% (9/9), done.\u001b[K\n",
            "remote: Compressing objects: 100% (7/7), done.\u001b[K\n",
            "remote: Total 9 (delta 0), reused 0 (delta 0), pack-reused 0\u001b[K\n",
            "Unpacking objects: 100% (9/9), done.\n"
          ]
        }
      ]
    },
    {
      "cell_type": "code",
      "execution_count": 2,
      "metadata": {
        "colab": {
          "base_uri": "https://localhost:8080/"
        },
        "id": "TbFxRPhwbMAh",
        "outputId": "426ccff0-d1fc-48d4-98dc-174ed8d48318"
      },
      "outputs": [
        {
          "output_type": "stream",
          "name": "stdout",
          "text": [
            "Collecting tika\n",
            "  Downloading tika-1.24.tar.gz (28 kB)\n",
            "Requirement already satisfied: setuptools in /usr/local/lib/python3.7/dist-packages (from tika) (57.4.0)\n",
            "Requirement already satisfied: requests in /usr/local/lib/python3.7/dist-packages (from tika) (2.23.0)\n",
            "Requirement already satisfied: certifi>=2017.4.17 in /usr/local/lib/python3.7/dist-packages (from requests->tika) (2021.10.8)\n",
            "Requirement already satisfied: idna<3,>=2.5 in /usr/local/lib/python3.7/dist-packages (from requests->tika) (2.10)\n",
            "Requirement already satisfied: chardet<4,>=3.0.2 in /usr/local/lib/python3.7/dist-packages (from requests->tika) (3.0.4)\n",
            "Requirement already satisfied: urllib3!=1.25.0,!=1.25.1,<1.26,>=1.21.1 in /usr/local/lib/python3.7/dist-packages (from requests->tika) (1.24.3)\n",
            "Building wheels for collected packages: tika\n",
            "  Building wheel for tika (setup.py) ... \u001b[?25l\u001b[?25hdone\n",
            "  Created wheel for tika: filename=tika-1.24-py3-none-any.whl size=32893 sha256=0cae41d6efbb57d88a59d5b100500130b1e643d850760ce6cace63186be209e5\n",
            "  Stored in directory: /root/.cache/pip/wheels/ec/2b/38/58ff05467a742e32f67f5d0de048fa046e764e2fbb25ac93f3\n",
            "Successfully built tika\n",
            "Installing collected packages: tika\n",
            "Successfully installed tika-1.24\n"
          ]
        }
      ],
      "source": [
        "!pip install tika"
      ]
    },
    {
      "cell_type": "code",
      "source": [
        "from tika import parser "
      ],
      "metadata": {
        "id": "5NViOWuObNIC"
      },
      "execution_count": 3,
      "outputs": []
    },
    {
      "cell_type": "code",
      "source": [
        "raw = parser.from_file('pdf/sample.pdf')"
      ],
      "metadata": {
        "id": "5PV_BFl8bNKm",
        "colab": {
          "base_uri": "https://localhost:8080/"
        },
        "outputId": "c0e56bfe-db0a-41af-9fe1-6a63de666cb5"
      },
      "execution_count": 4,
      "outputs": [
        {
          "output_type": "stream",
          "name": "stderr",
          "text": [
            "2022-01-25 13:35:48,818 [MainThread  ] [INFO ]  Retrieving http://search.maven.org/remotecontent?filepath=org/apache/tika/tika-server/1.24/tika-server-1.24.jar to /tmp/tika-server.jar.\n",
            "2022-01-25 13:35:53,705 [MainThread  ] [INFO ]  Retrieving http://search.maven.org/remotecontent?filepath=org/apache/tika/tika-server/1.24/tika-server-1.24.jar.md5 to /tmp/tika-server.jar.md5.\n",
            "2022-01-25 13:35:54,840 [MainThread  ] [WARNI]  Failed to see startup log message; retrying...\n"
          ]
        }
      ]
    },
    {
      "cell_type": "code",
      "source": [
        "type(raw)"
      ],
      "metadata": {
        "colab": {
          "base_uri": "https://localhost:8080/"
        },
        "id": "v80EEDqeJY_5",
        "outputId": "f4ac1a3e-9868-4422-d055-137e770bbb61"
      },
      "execution_count": 5,
      "outputs": [
        {
          "output_type": "execute_result",
          "data": {
            "text/plain": [
              "dict"
            ]
          },
          "metadata": {},
          "execution_count": 5
        }
      ]
    },
    {
      "cell_type": "code",
      "source": [
        "raw"
      ],
      "metadata": {
        "colab": {
          "base_uri": "https://localhost:8080/"
        },
        "id": "bkEoSXInchcu",
        "outputId": "39429ccd-aa72-4698-98bb-d751a3a32e6b"
      },
      "execution_count": 6,
      "outputs": [
        {
          "output_type": "execute_result",
          "data": {
            "text/plain": [
              "{'content': '\\n\\n\\n\\n\\n\\n\\n\\n\\n\\n\\n\\n\\n\\n\\n\\n\\n\\n\\n\\n\\n\\n\\n\\n\\n\\n\\n\\n\\n\\n\\n\\n\\n\\n\\n\\n\\n\\n\\n\\nSobre\\n\\nPor que\\xa0Dados ao Cubo?\\n\\nA iniciativa\\xa0Dados ao Cubo\\xa0(D³)\\xa0surgiu durante um Bootcamp online de\\n\\nMachine Learning, em uma conversa entre amigos de turma, três\\n\\nestudantes dedicados e apaixonados por inteligência artificial, um pouco\\n\\ninsatisfeitos com a metodologia e a forma como era passada o conteúdo,\\n\\ntiveram a ideia de compartilhar o conhecimento adquirido com toda a\\n\\ncomunidade de uma forma mais clara e totalmente gratuita. Atualmente\\n\\nsou o último dos moicanos!\\n\\n\\n',\n",
              " 'metadata': {'Content-Type': 'application/pdf',\n",
              "  'Creation-Date': '2022-01-24T22:08:54Z',\n",
              "  'Last-Modified': '2022-01-24T22:08:54Z',\n",
              "  'Last-Save-Date': '2022-01-24T22:08:54Z',\n",
              "  'X-Parsed-By': ['org.apache.tika.parser.DefaultParser',\n",
              "   'org.apache.tika.parser.pdf.PDFParser'],\n",
              "  'X-TIKA:content_handler': 'ToTextContentHandler',\n",
              "  'X-TIKA:embedded_depth': '0',\n",
              "  'X-TIKA:parse_time_millis': '1207',\n",
              "  'access_permission:assemble_document': 'true',\n",
              "  'access_permission:can_modify': 'true',\n",
              "  'access_permission:can_print': 'true',\n",
              "  'access_permission:can_print_degraded': 'true',\n",
              "  'access_permission:extract_content': 'true',\n",
              "  'access_permission:extract_for_accessibility': 'true',\n",
              "  'access_permission:fill_in_form': 'true',\n",
              "  'access_permission:modify_annotations': 'true',\n",
              "  'created': '2022-01-24T22:08:54Z',\n",
              "  'date': '2022-01-24T22:08:54Z',\n",
              "  'dc:format': 'application/pdf; version=1.4',\n",
              "  'dcterms:created': '2022-01-24T22:08:54Z',\n",
              "  'dcterms:modified': '2022-01-24T22:08:54Z',\n",
              "  'meta:creation-date': '2022-01-24T22:08:54Z',\n",
              "  'meta:save-date': '2022-01-24T22:08:54Z',\n",
              "  'modified': '2022-01-24T22:08:54Z',\n",
              "  'pdf:PDFVersion': '1.4',\n",
              "  'pdf:charsPerPage': '458',\n",
              "  'pdf:docinfo:created': '2022-01-24T22:08:54Z',\n",
              "  'pdf:docinfo:creator_tool': 'Mozilla/5.0 (Macintosh; Intel Mac OS X 10_15_7) AppleWebKit/537.36 (KHTML, like Gecko) Chrome/97.0.4692.99 Safari/537.36',\n",
              "  'pdf:docinfo:modified': '2022-01-24T22:08:54Z',\n",
              "  'pdf:docinfo:producer': 'Skia/PDF m97',\n",
              "  'pdf:encrypted': 'false',\n",
              "  'pdf:hasMarkedContent': 'false',\n",
              "  'pdf:hasXFA': 'false',\n",
              "  'pdf:hasXMP': 'false',\n",
              "  'pdf:unmappedUnicodeCharsPerPage': '0',\n",
              "  'producer': 'Skia/PDF m97',\n",
              "  'resourceName': \"b'sample.pdf'\",\n",
              "  'xmp:CreatorTool': 'Mozilla/5.0 (Macintosh; Intel Mac OS X 10_15_7) AppleWebKit/537.36 (KHTML, like Gecko) Chrome/97.0.4692.99 Safari/537.36',\n",
              "  'xmpTPg:NPages': '1'},\n",
              " 'status': 200}"
            ]
          },
          "metadata": {},
          "execution_count": 6
        }
      ]
    },
    {
      "cell_type": "code",
      "source": [
        "raw['content']"
      ],
      "metadata": {
        "colab": {
          "base_uri": "https://localhost:8080/",
          "height": 70
        },
        "id": "EwA_LsAYbNNl",
        "outputId": "88f45d58-866b-4a2d-9fc9-db61a4f9651c"
      },
      "execution_count": 7,
      "outputs": [
        {
          "output_type": "execute_result",
          "data": {
            "application/vnd.google.colaboratory.intrinsic+json": {
              "type": "string"
            },
            "text/plain": [
              "'\\n\\n\\n\\n\\n\\n\\n\\n\\n\\n\\n\\n\\n\\n\\n\\n\\n\\n\\n\\n\\n\\n\\n\\n\\n\\n\\n\\n\\n\\n\\n\\n\\n\\n\\n\\n\\n\\n\\n\\nSobre\\n\\nPor que\\xa0Dados ao Cubo?\\n\\nA iniciativa\\xa0Dados ao Cubo\\xa0(D³)\\xa0surgiu durante um Bootcamp online de\\n\\nMachine Learning, em uma conversa entre amigos de turma, três\\n\\nestudantes dedicados e apaixonados por inteligência artificial, um pouco\\n\\ninsatisfeitos com a metodologia e a forma como era passada o conteúdo,\\n\\ntiveram a ideia de compartilhar o conhecimento adquirido com toda a\\n\\ncomunidade de uma forma mais clara e totalmente gratuita. Atualmente\\n\\nsou o último dos moicanos!\\n\\n\\n'"
            ]
          },
          "metadata": {},
          "execution_count": 7
        }
      ]
    },
    {
      "cell_type": "code",
      "source": [
        "print(raw['content'])"
      ],
      "metadata": {
        "colab": {
          "base_uri": "https://localhost:8080/"
        },
        "id": "njk1HSJ9L_C0",
        "outputId": "ce894608-0240-4d48-c8f9-abdf38e43cd4"
      },
      "execution_count": 8,
      "outputs": [
        {
          "output_type": "stream",
          "name": "stdout",
          "text": [
            "\n",
            "\n",
            "\n",
            "\n",
            "\n",
            "\n",
            "\n",
            "\n",
            "\n",
            "\n",
            "\n",
            "\n",
            "\n",
            "\n",
            "\n",
            "\n",
            "\n",
            "\n",
            "\n",
            "\n",
            "\n",
            "\n",
            "\n",
            "\n",
            "\n",
            "\n",
            "\n",
            "\n",
            "\n",
            "\n",
            "\n",
            "\n",
            "\n",
            "\n",
            "\n",
            "\n",
            "\n",
            "\n",
            "\n",
            "\n",
            "Sobre\n",
            "\n",
            "Por que Dados ao Cubo?\n",
            "\n",
            "A iniciativa Dados ao Cubo (D³) surgiu durante um Bootcamp online de\n",
            "\n",
            "Machine Learning, em uma conversa entre amigos de turma, três\n",
            "\n",
            "estudantes dedicados e apaixonados por inteligência artificial, um pouco\n",
            "\n",
            "insatisfeitos com a metodologia e a forma como era passada o conteúdo,\n",
            "\n",
            "tiveram a ideia de compartilhar o conhecimento adquirido com toda a\n",
            "\n",
            "comunidade de uma forma mais clara e totalmente gratuita. Atualmente\n",
            "\n",
            "sou o último dos moicanos!\n",
            "\n",
            "\n",
            "\n"
          ]
        }
      ]
    }
  ]
}